{
 "cells": [
  {
   "cell_type": "markdown",
   "id": "e3d4aab0",
   "metadata": {},
   "source": [
    "# Efetue a análise exploratória dos dados levantando os principais pontos relevantes para a solução do problema."
   ]
  },
  {
   "cell_type": "markdown",
   "id": "42c01b4b",
   "metadata": {},
   "source": [
    "    Este projeto tem como intuito analisar o visível aumento de moradores em situação de rua no município de Santos/SP. Para a análise estão sendo coletados dados do site do município, onde serão analisados os seguintes agrupamentos de dados:\n",
    "    Análise quantitativa de dados demográficos e sociais:\n",
    "        * População total do município\n",
    "        * Número de pessoas em situação de rua\n",
    "        * Número total de catadores\n",
    "    Análise de encaminhamentos e equipamentos para atendimento à população em situação de rua:\n",
    "        * Número de encaminhamentos após abordagem social a moradores de rua\n",
    "        * Número de equipamentos para atendimento à população em situação de rua\n",
    "    Análise de gastos e despesas na área de Assistência Social:\n",
    "        * Gastos públicos em cada área administrativa do município – Assistência Social\n",
    "        * Total das despesas previstas com Assistência Social\n",
    "        * Total de gastos em todas as áreas administrativas do município\n",
    "    Análise de atendimentos nos restaurantes populares e Centro de Referência Especializado\n",
    "        * Atendimentos nos restaurantes populares\n",
    "        * Quantidade de restaurantes populares\n",
    "        * Quantidade de pessoas em situação de rua atendidas no Centro Pop"
   ]
  },
  {
   "cell_type": "markdown",
   "id": "cb1c33b9",
   "metadata": {},
   "source": [
    "# Justifique os principais pontos escolhidos para a solução do problema e descreva sua relevância. "
   ]
  },
  {
   "cell_type": "markdown",
   "id": "b809cc1a",
   "metadata": {},
   "source": [
    "    Os agrupamentos escolhidos tem a função de fundamentar as análises primeiramente num panorama geral e aos poucos aprofundarem nas evoluções tomadas pelo município e nos cuidados com as pessoas em situação de rua.\n",
    "    \n",
    "    Análise quantitativa de dados demográficos e sociais: este grupo de dados visa primeiramente analisar a progressão da população total do município, das em situação de rua e de catadores. A ideia é acompanhar o crescimento ou diminuição e qual sua porcentagem relativa entre estes dados.\n",
    "    \n",
    "    Análise de encaminhamentos e equipamentos para atendimento à população em situação de rua: um passo a frente, a ideia é verificar como e se estão sendo abordados, com quantos equipamentos e se os mesmos são proporcionais ao número total de pessoas em situação de rua. Através da análise destes dados será possível verificar se está sendo dada a devida importância à este problema social.\n",
    "\n",
    "    Análise de gastos e despesas na área de Assistência Social: correlacionado ao agrupamento acima, este visa verificar de maneira mais ampla quais os cuidados das áreas responsáveis e qual a proporção destes esforços em relação ao tomado em outras áreas. \n",
    "\n",
    "    Análise de atendimentos nos restaurantes populares e Centro de Referência Especializado: este conjunto tem como intuito analisar se o governo dá uma base para as pessoas em situação financeira delicada, evitando assim que cheguem a se encontrar em situação de rua ou que retornem à mesma. Nesta análise poderemos verificar se existe a necessidade de uma instrução maior aos mesmos quanto à existência destes centro e restaurantes populares e, mais aprofundadamente, se se recusam a ir por algum motivo.\n",
    "\n",
    "\n"
   ]
  },
  {
   "cell_type": "markdown",
   "id": "01e42193",
   "metadata": {},
   "source": [
    "# 1. Importando as bibliotecas"
   ]
  },
  {
   "cell_type": "code",
   "execution_count": 1,
   "id": "75c31820-edc8-470d-b30f-0c176139b13a",
   "metadata": {
    "tags": []
   },
   "outputs": [],
   "source": [
    "import pandas as pd\n",
    "import matplotlib.pyplot as plt"
   ]
  },
  {
   "cell_type": "markdown",
   "id": "4d0978ae",
   "metadata": {},
   "source": [
    "# 2. Criando os DataFrames"
   ]
  },
  {
   "cell_type": "code",
   "execution_count": 2,
   "id": "580c4fc1-f6c2-4c99-ad59-f7a289e02e05",
   "metadata": {
    "tags": []
   },
   "outputs": [],
   "source": [
    "# Leitura de arquivos relacionados a atendimentos nos restaurantes populares e Centro de Referência Especializado\n",
    "atend_rest_pop = pd.read_csv('Atendimentos nos restaurantes populares.csv')\n",
    "qt_rest_pop = pd.read_csv('Quantidade de restaurantes populares.csv')\n",
    "atend_centropop = pd.read_csv('Quantidade de pessoas em situação de rua atendidas no Centro Pop.csv')\n",
    "\n",
    "# Leitura de arquivos relacionados a gastos e despesas na área de Assistência Social\n",
    "gastos_assist_soc = pd.read_csv('Gastos públicos em cada área administrativa do município – Assistência Social.csv')\n",
    "desp_assist_soc = pd.read_csv('Total das despesas previstas com Assistência Social.csv')\n",
    "gastos_gerais_mun = pd.read_csv('Total de gastos em todas as áreas administrativas do município.csv')\n",
    "\n",
    "# Leitura de arquivos relacionados a dados demográficos e sociais\n",
    "pop_santos = pd.read_csv('População total do município.csv')\n",
    "qt_situacao_rua = pd.read_csv('Número de pessoas em situação de rua.csv')\n",
    "qt_catadores = pd.read_csv('Número total de catadores - Seds.csv')\n",
    "\n",
    "# Leitura de arquivos relacionados a encaminhamentos e equipamentos para atendimento à população em situação de rua\n",
    "encam_abord = pd.read_csv('Número de encaminhamentos após abordagem social a moradores de rua.csv')\n",
    "equip_atend = pd.read_csv('Número de equipamentos para atendimento à população em situação de rua.csv')"
   ]
  },
  {
   "cell_type": "markdown",
   "id": "3fb6c1dc-5b9a-4e3c-b541-068a19d6b9cf",
   "metadata": {},
   "source": [
    "# 3. Limpeza e preparação dos dados"
   ]
  },
  {
   "cell_type": "markdown",
   "id": "919cbfb7",
   "metadata": {},
   "source": [
    "#### Criando uma função chamada 'organizar' para converter os dados e eliminar a coluna 'descricao'"
   ]
  },
  {
   "cell_type": "code",
   "execution_count": 35,
   "id": "51d777c2-094e-4f5b-977d-1e6c4dfb1f53",
   "metadata": {
    "tags": []
   },
   "outputs": [],
   "source": [
    "def organizar(df):\n",
    "    # Convertendo a coluna 'data' para o tipo datetime\n",
    "    df['data'] = pd.to_datetime(df['data'])\n",
    "    \n",
    "    # Extraindo apenas a parte da data (sem horário)\n",
    "    df['data'] = df['data'].dt.date\n",
    "\n",
    "    # Ordenando o DataFrame por ano\n",
    "    df = df.sort_values(by='data')\n",
    "    \n",
    "    # Removendo a coluna 'descricao'\n",
    "    df = df.drop('descricao', axis=1)\n",
    "\n",
    "    return df"
   ]
  },
  {
   "cell_type": "markdown",
   "id": "a0593731",
   "metadata": {},
   "source": [
    "#### Chamando a função 'organizar' para cada DataFrame"
   ]
  },
  {
   "cell_type": "code",
   "execution_count": 36,
   "id": "727bf17c-ef2b-424b-8721-68c93c470bc4",
   "metadata": {
    "tags": []
   },
   "outputs": [],
   "source": [
    "\n",
    "atend_rest_pop = organizar(atend_rest_pop)\n",
    "qt_rest_pop = organizar(qt_rest_pop)\n",
    "atend_centropop = organizar(atend_centropop)\n",
    "gastos_assist_soc = organizar(gastos_assist_soc)\n",
    "desp_assist_soc = organizar(desp_assist_soc)\n",
    "gastos_gerais_mun = organizar(gastos_gerais_mun)\n",
    "pop_santos = organizar(pop_santos)\n",
    "qt_situacao_rua = organizar(qt_situacao_rua)\n",
    "qt_catadores = organizar(qt_catadores)\n",
    "encam_abord = organizar(encam_abord)\n",
    "equip_atend = organizar(equip_atend)"
   ]
  },
  {
   "cell_type": "code",
   "execution_count": 5,
   "id": "9cdd073a",
   "metadata": {
    "tags": []
   },
   "outputs": [
    {
     "data": {
      "text/plain": [
       "'\"# Criando o gráfico\\nplt.figure(figsize=(10, 6))\\nplt.plot(atend_rest_pop[\\'data\\'], atend_rest_pop[\\'valor\\'], marker=\\'o\\', linestyle=\\'-\\')\\n\\n# Adicionando rótulos e título\\nplt.xlabel(\\'Data\\')\\nplt.ylabel(\\'Valor\\')\\nplt.title(\\'Atendimentos nos Restaurantes Populares ao longo do tempo\\')\\n\\n# Exibindo o gráfico\\nplt.grid(True)\\nplt.show()'"
      ]
     },
     "execution_count": 5,
     "metadata": {},
     "output_type": "execute_result"
    }
   ],
   "source": [
    "\"\"\"\"# Criando o gráfico\n",
    "plt.figure(figsize=(10, 6))\n",
    "plt.plot(atend_rest_pop['data'], atend_rest_pop['valor'], marker='o', linestyle='-')\n",
    "\n",
    "# Adicionando rótulos e título\n",
    "plt.xlabel('Data')\n",
    "plt.ylabel('Valor')\n",
    "plt.title('Atendimentos nos Restaurantes Populares ao longo do tempo')\n",
    "\n",
    "# Exibindo o gráfico\n",
    "plt.grid(True)\n",
    "plt.show()\"\"\""
   ]
  },
  {
   "cell_type": "markdown",
   "id": "f855c3ac",
   "metadata": {},
   "source": [
    "#### Criando um dicionário 'dataframes' para facilitar a verificação de dados"
   ]
  },
  {
   "cell_type": "code",
   "execution_count": 41,
   "id": "a60e24e1",
   "metadata": {},
   "outputs": [],
   "source": [
    "dataframes = {\n",
    "    'atend_rest_pop': atend_rest_pop,\n",
    "    'qt_rest_pop': qt_rest_pop,\n",
    "    'atend_centropop': atend_centropop,\n",
    "    'gastos_assist_soc': gastos_assist_soc,\n",
    "    'desp_assist_soc': desp_assist_soc,\n",
    "    'gastos_gerais_mun': gastos_gerais_mun,\n",
    "    'pop_santos': pop_santos,\n",
    "    'qt_situacao_rua': qt_situacao_rua,\n",
    "    'qt_catadores': qt_catadores,\n",
    "    'encam_abord': encam_abord,\n",
    "    'equip_atend': equip_atend\n",
    "}"
   ]
  },
  {
   "cell_type": "markdown",
   "id": "41240e05",
   "metadata": {},
   "source": [
    "#### Aplicando um .isna para verificar se existem itens NaN"
   ]
  },
  {
   "cell_type": "code",
   "execution_count": null,
   "id": "1c66a13c",
   "metadata": {},
   "outputs": [],
   "source": [
    "for name, df in dataframes.items():\n",
    "    print(f\"Verificando DataFrame: {name}\")\n",
    "    print(df.isna().sum())"
   ]
  },
  {
   "cell_type": "markdown",
   "id": "dd3097d5",
   "metadata": {},
   "source": [
    "#### Removendo linhas duplicadas"
   ]
  },
  {
   "cell_type": "code",
   "execution_count": 46,
   "id": "ab808971",
   "metadata": {},
   "outputs": [],
   "source": [
    "for name, df in dataframes.items():\n",
    "    df.drop_duplicates(inplace=True)"
   ]
  }
 ],
 "metadata": {
  "kernelspec": {
   "display_name": "Python 3 (ipykernel)",
   "language": "python",
   "name": "python3"
  },
  "language_info": {
   "codemirror_mode": {
    "name": "ipython",
    "version": 3
   },
   "file_extension": ".py",
   "mimetype": "text/x-python",
   "name": "python",
   "nbconvert_exporter": "python",
   "pygments_lexer": "ipython3",
   "version": "3.11.5"
  }
 },
 "nbformat": 4,
 "nbformat_minor": 5
}
